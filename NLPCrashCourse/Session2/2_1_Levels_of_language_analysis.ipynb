{
  "nbformat": 4,
  "nbformat_minor": 0,
  "metadata": {
    "colab": {
      "provenance": []
    },
    "kernelspec": {
      "name": "python3",
      "display_name": "Python 3"
    },
    "language_info": {
      "name": "python"
    }
  },
  "cells": [
    {
      "cell_type": "markdown",
      "source": [
        "Natural Language Processing (NLP) delves into the fascinating world of understanding and manipulating human language. To truly grasp its meaning, NLP breaks down language into different levels of analysis, each focusing on a specific aspect. Here's an explanation of the four key levels:\n",
        "\n",
        "### **2.1 Morphology : The Microscopic View of Words**\n",
        "\n",
        "- Imagine language as a beautiful mosaic. Morphology deals with the smallest, most intricate pieces: morphemes.\n",
        "\n",
        "![](https://static.javatpoint.com/definition/images/morphology-definition2.png)\n",
        "- These are the smallest units of meaning in a language, akin to the tiny tiles forming the mosaic picture. Examples include prefixes (\"un-\"), suffixes (\"-ly\"), and root words (\"happy\"). By understanding how morphemes combine and interact, we can analyze word structure and derivation."
      ],
      "metadata": {
        "id": "zDgBTRX-VIpq"
      }
    },
    {
      "cell_type": "markdown",
      "source": [
        "### 1.NLTK"
      ],
      "metadata": {
        "id": "eLnOmfFNYYxE"
      }
    },
    {
      "cell_type": "code",
      "execution_count": 1,
      "metadata": {
        "colab": {
          "base_uri": "https://localhost:8080/"
        },
        "id": "QbNeklXNVDKh",
        "outputId": "b4376259-eaf9-4a26-80ee-873f580f993c"
      },
      "outputs": [
        {
          "output_type": "stream",
          "name": "stderr",
          "text": [
            "[nltk_data] Downloading package punkt to /root/nltk_data...\n",
            "[nltk_data]   Unzipping tokenizers/punkt.zip.\n"
          ]
        },
        {
          "output_type": "stream",
          "name": "stdout",
          "text": [
            "Morphology Analysis: ['analyz', 'morpholog', 'is', 'import', 'for', 'understand', 'languag', 'structur', '.']\n"
          ]
        }
      ],
      "source": [
        "import nltk\n",
        "from nltk.tokenize import word_tokenize\n",
        "from nltk.stem import PorterStemmer\n",
        "\n",
        "nltk.download('punkt')\n",
        "\n",
        "def morphology_analysis(text):\n",
        "    words = word_tokenize(text)\n",
        "    stemmer = PorterStemmer()\n",
        "    stems = [stemmer.stem(word) for word in words]\n",
        "    return stems\n",
        "\n",
        "text = \"Analyzing morphology is important for understanding language structure.\"\n",
        "morphology_result = morphology_analysis(text)\n",
        "print(\"Morphology Analysis:\", morphology_result)"
      ]
    },
    {
      "cell_type": "markdown",
      "source": [
        "### 2.Spacy"
      ],
      "metadata": {
        "id": "LbK7Frj4Yb9F"
      }
    },
    {
      "cell_type": "code",
      "source": [
        "import spacy\n",
        "\n",
        "def morphology_analysis_spacy(text):\n",
        "    nlp = spacy.load(\"en_core_web_sm\")\n",
        "    doc = nlp(text)\n",
        "    lemmas = [token.lemma_ for token in doc]\n",
        "    return lemmas\n",
        "\n",
        "text = \"Analyzing morphology is important for understanding language structure.\"\n",
        "morphology_result_spacy = morphology_analysis_spacy(text)\n",
        "print(\"Morphology Analysis with spaCy:\", morphology_result_spacy)"
      ],
      "metadata": {
        "colab": {
          "base_uri": "https://localhost:8080/"
        },
        "id": "46kb5GM9Yeo4",
        "outputId": "4cd927bd-56f5-464d-d1d6-7821bb1013b3"
      },
      "execution_count": 3,
      "outputs": [
        {
          "output_type": "stream",
          "name": "stdout",
          "text": [
            "Morphology Analysis with spaCy: ['analyze', 'morphology', 'be', 'important', 'for', 'understand', 'language', 'structure', '.']\n"
          ]
        }
      ]
    },
    {
      "cell_type": "markdown",
      "source": [
        "### **2.2  Syntax: The Sentence Architect**\n",
        "\n",
        "![](https://www.researchgate.net/publication/290432897/figure/fig4/AS:322609892872195@1453927600608/Diagram-illustrates-the-syntactic-analysis-of-the-sentence-The-gallbladder-is-surgically.png)  \n",
        "Moving up a level,\n",
        "- **Syntax** focuses on how morphemes come together to form sentences.\n",
        "- It's like the grammar rules that govern the order and arrangement of words to create grammatically correct and meaningful structures.\n",
        "- **Syntax** analyzes the relationships between words, identifying things like subjects, verbs, objects, and phrases. Understanding syntax allows us to parse sentences and their grammatical roles."
      ],
      "metadata": {
        "id": "clbnAiJeXaqd"
      }
    },
    {
      "cell_type": "markdown",
      "source": [
        "### 1.NLTK"
      ],
      "metadata": {
        "id": "mbJMWqr7Yk52"
      }
    },
    {
      "cell_type": "code",
      "source": [
        "import nltk\n",
        "from nltk.tokenize import word_tokenize\n",
        "from nltk import pos_tag\n",
        "\n",
        "nltk.download('punkt')\n",
        "nltk.download('averaged_perceptron_tagger')\n",
        "\n",
        "def syntax_analysis(text):\n",
        "    words = word_tokenize(text)\n",
        "    pos_tags = pos_tag(words)\n",
        "    return pos_tags\n",
        "\n",
        "text = \"Syntax analysis helps in understanding sentence structure.\"\n",
        "syntax_result = syntax_analysis(text)\n",
        "print(\"Syntax Analysis:\", syntax_result)"
      ],
      "metadata": {
        "colab": {
          "base_uri": "https://localhost:8080/"
        },
        "id": "XN-kmWk-XQCo",
        "outputId": "fbb2afc0-16b5-4477-d4a8-f97c07277f69"
      },
      "execution_count": 2,
      "outputs": [
        {
          "output_type": "stream",
          "name": "stderr",
          "text": [
            "[nltk_data] Downloading package punkt to /root/nltk_data...\n",
            "[nltk_data]   Package punkt is already up-to-date!\n",
            "[nltk_data] Downloading package averaged_perceptron_tagger to\n",
            "[nltk_data]     /root/nltk_data...\n",
            "[nltk_data]   Unzipping taggers/averaged_perceptron_tagger.zip.\n"
          ]
        },
        {
          "output_type": "stream",
          "name": "stdout",
          "text": [
            "Syntax Analysis: [('Syntax', 'JJ'), ('analysis', 'NN'), ('helps', 'VBZ'), ('in', 'IN'), ('understanding', 'VBG'), ('sentence', 'NN'), ('structure', 'NN'), ('.', '.')]\n"
          ]
        }
      ]
    },
    {
      "cell_type": "markdown",
      "source": [
        "### 2.Spacy"
      ],
      "metadata": {
        "id": "LYfSPYDvYmad"
      }
    },
    {
      "cell_type": "code",
      "source": [
        "import spacy\n",
        "from spacy import displacy\n",
        "from IPython.display import SVG, display\n",
        "\n",
        "def syntax_analysis_spacy(text):\n",
        "    nlp = spacy.load(\"en_core_web_sm\")\n",
        "    doc = nlp(text)\n",
        "    pos_tags = [(token.text, token.pos_) for token in doc]\n",
        "    return doc, pos_tags\n",
        "\n",
        "text = \"Syntax analysis helps in understanding sentence structure.\"\n",
        "doc, syntax_result_spacy = syntax_analysis_spacy(text)\n",
        "\n",
        "# Render the syntax tree directly in the Colab notebook\n",
        "svg_code = displacy.render(doc, style=\"dep\", options={'distance': 100})\n",
        "display(SVG(data=svg_code))"
      ],
      "metadata": {
        "colab": {
          "base_uri": "https://localhost:8080/",
          "height": 258
        },
        "id": "NpzqAWqLYPUf",
        "outputId": "614e78cb-4b1d-4088-8f35-02250a73eae4"
      },
      "execution_count": 9,
      "outputs": [
        {
          "output_type": "display_data",
          "data": {
            "text/plain": [
              "<IPython.core.display.SVG object>"
            ],
            "image/svg+xml": "<svg xmlns=\"http://www.w3.org/2000/svg\" xmlns:xlink=\"http://www.w3.org/1999/xlink\" xml:lang=\"en\" id=\"92e08f88e7f54ed4935cb8f40e9224f5-0\" class=\"displacy\" width=\"750\" height=\"237.0\" direction=\"ltr\" style=\"max-width: none; height: 237.0px; color: #000000; background: #ffffff; font-family: Arial; direction: ltr\">\n<text class=\"displacy-token\" fill=\"currentColor\" text-anchor=\"middle\" y=\"147.0\">\n    <tspan class=\"displacy-word\" fill=\"currentColor\" x=\"50\">Syntax</tspan>\n    <tspan class=\"displacy-tag\" dy=\"2em\" fill=\"currentColor\" x=\"50\">PROPN</tspan>\n</text>\n\n<text class=\"displacy-token\" fill=\"currentColor\" text-anchor=\"middle\" y=\"147.0\">\n    <tspan class=\"displacy-word\" fill=\"currentColor\" x=\"150\">analysis</tspan>\n    <tspan class=\"displacy-tag\" dy=\"2em\" fill=\"currentColor\" x=\"150\">NOUN</tspan>\n</text>\n\n<text class=\"displacy-token\" fill=\"currentColor\" text-anchor=\"middle\" y=\"147.0\">\n    <tspan class=\"displacy-word\" fill=\"currentColor\" x=\"250\">helps</tspan>\n    <tspan class=\"displacy-tag\" dy=\"2em\" fill=\"currentColor\" x=\"250\">VERB</tspan>\n</text>\n\n<text class=\"displacy-token\" fill=\"currentColor\" text-anchor=\"middle\" y=\"147.0\">\n    <tspan class=\"displacy-word\" fill=\"currentColor\" x=\"350\">in</tspan>\n    <tspan class=\"displacy-tag\" dy=\"2em\" fill=\"currentColor\" x=\"350\">ADP</tspan>\n</text>\n\n<text class=\"displacy-token\" fill=\"currentColor\" text-anchor=\"middle\" y=\"147.0\">\n    <tspan class=\"displacy-word\" fill=\"currentColor\" x=\"450\">understanding</tspan>\n    <tspan class=\"displacy-tag\" dy=\"2em\" fill=\"currentColor\" x=\"450\">VERB</tspan>\n</text>\n\n<text class=\"displacy-token\" fill=\"currentColor\" text-anchor=\"middle\" y=\"147.0\">\n    <tspan class=\"displacy-word\" fill=\"currentColor\" x=\"550\">sentence</tspan>\n    <tspan class=\"displacy-tag\" dy=\"2em\" fill=\"currentColor\" x=\"550\">NOUN</tspan>\n</text>\n\n<text class=\"displacy-token\" fill=\"currentColor\" text-anchor=\"middle\" y=\"147.0\">\n    <tspan class=\"displacy-word\" fill=\"currentColor\" x=\"650\">structure.</tspan>\n    <tspan class=\"displacy-tag\" dy=\"2em\" fill=\"currentColor\" x=\"650\">NOUN</tspan>\n</text>\n\n<g class=\"displacy-arrow\">\n    <path class=\"displacy-arc\" id=\"arrow-92e08f88e7f54ed4935cb8f40e9224f5-0-0\" stroke-width=\"2px\" d=\"M70,102.0 C70,52.0 145.0,52.0 145.0,102.0\" fill=\"none\" stroke=\"currentColor\"/>\n    <text dy=\"1.25em\" style=\"font-size: 0.8em; letter-spacing: 1px\">\n        <textPath xlink:href=\"#arrow-92e08f88e7f54ed4935cb8f40e9224f5-0-0\" class=\"displacy-label\" startOffset=\"50%\" side=\"left\" fill=\"currentColor\" text-anchor=\"middle\">compound</textPath>\n    </text>\n    <path class=\"displacy-arrowhead\" d=\"M70,104.0 L62,92.0 78,92.0\" fill=\"currentColor\"/>\n</g>\n\n<g class=\"displacy-arrow\">\n    <path class=\"displacy-arc\" id=\"arrow-92e08f88e7f54ed4935cb8f40e9224f5-0-1\" stroke-width=\"2px\" d=\"M170,102.0 C170,52.0 245.0,52.0 245.0,102.0\" fill=\"none\" stroke=\"currentColor\"/>\n    <text dy=\"1.25em\" style=\"font-size: 0.8em; letter-spacing: 1px\">\n        <textPath xlink:href=\"#arrow-92e08f88e7f54ed4935cb8f40e9224f5-0-1\" class=\"displacy-label\" startOffset=\"50%\" side=\"left\" fill=\"currentColor\" text-anchor=\"middle\">nsubj</textPath>\n    </text>\n    <path class=\"displacy-arrowhead\" d=\"M170,104.0 L162,92.0 178,92.0\" fill=\"currentColor\"/>\n</g>\n\n<g class=\"displacy-arrow\">\n    <path class=\"displacy-arc\" id=\"arrow-92e08f88e7f54ed4935cb8f40e9224f5-0-2\" stroke-width=\"2px\" d=\"M270,102.0 C270,52.0 345.0,52.0 345.0,102.0\" fill=\"none\" stroke=\"currentColor\"/>\n    <text dy=\"1.25em\" style=\"font-size: 0.8em; letter-spacing: 1px\">\n        <textPath xlink:href=\"#arrow-92e08f88e7f54ed4935cb8f40e9224f5-0-2\" class=\"displacy-label\" startOffset=\"50%\" side=\"left\" fill=\"currentColor\" text-anchor=\"middle\">prep</textPath>\n    </text>\n    <path class=\"displacy-arrowhead\" d=\"M345.0,104.0 L353.0,92.0 337.0,92.0\" fill=\"currentColor\"/>\n</g>\n\n<g class=\"displacy-arrow\">\n    <path class=\"displacy-arc\" id=\"arrow-92e08f88e7f54ed4935cb8f40e9224f5-0-3\" stroke-width=\"2px\" d=\"M370,102.0 C370,52.0 445.0,52.0 445.0,102.0\" fill=\"none\" stroke=\"currentColor\"/>\n    <text dy=\"1.25em\" style=\"font-size: 0.8em; letter-spacing: 1px\">\n        <textPath xlink:href=\"#arrow-92e08f88e7f54ed4935cb8f40e9224f5-0-3\" class=\"displacy-label\" startOffset=\"50%\" side=\"left\" fill=\"currentColor\" text-anchor=\"middle\">pcomp</textPath>\n    </text>\n    <path class=\"displacy-arrowhead\" d=\"M445.0,104.0 L453.0,92.0 437.0,92.0\" fill=\"currentColor\"/>\n</g>\n\n<g class=\"displacy-arrow\">\n    <path class=\"displacy-arc\" id=\"arrow-92e08f88e7f54ed4935cb8f40e9224f5-0-4\" stroke-width=\"2px\" d=\"M570,102.0 C570,52.0 645.0,52.0 645.0,102.0\" fill=\"none\" stroke=\"currentColor\"/>\n    <text dy=\"1.25em\" style=\"font-size: 0.8em; letter-spacing: 1px\">\n        <textPath xlink:href=\"#arrow-92e08f88e7f54ed4935cb8f40e9224f5-0-4\" class=\"displacy-label\" startOffset=\"50%\" side=\"left\" fill=\"currentColor\" text-anchor=\"middle\">compound</textPath>\n    </text>\n    <path class=\"displacy-arrowhead\" d=\"M570,104.0 L562,92.0 578,92.0\" fill=\"currentColor\"/>\n</g>\n\n<g class=\"displacy-arrow\">\n    <path class=\"displacy-arc\" id=\"arrow-92e08f88e7f54ed4935cb8f40e9224f5-0-5\" stroke-width=\"2px\" d=\"M470,102.0 C470,2.0 650.0,2.0 650.0,102.0\" fill=\"none\" stroke=\"currentColor\"/>\n    <text dy=\"1.25em\" style=\"font-size: 0.8em; letter-spacing: 1px\">\n        <textPath xlink:href=\"#arrow-92e08f88e7f54ed4935cb8f40e9224f5-0-5\" class=\"displacy-label\" startOffset=\"50%\" side=\"left\" fill=\"currentColor\" text-anchor=\"middle\">dobj</textPath>\n    </text>\n    <path class=\"displacy-arrowhead\" d=\"M650.0,104.0 L658.0,92.0 642.0,92.0\" fill=\"currentColor\"/>\n</g>\n</svg>"
          },
          "metadata": {}
        }
      ]
    },
    {
      "cell_type": "markdown",
      "source": [
        "### **3. Semantics: Meaning Takes Center Stage**\n",
        "\n",
        "Now, we dive into the heart of understanding: meaning. Semantics explores the meaning of words, phrases, and sentences and how those meanings combine to create the overall message. It deals with things like synonymy (words with similar meaning), antonymy (opposites), and the various interpretations a sentence can have depending on context. Mastering semantics enables NLP tasks like sentiment analysis, text summarization, and question answering."
      ],
      "metadata": {
        "id": "Zr6CWm85acyk"
      }
    },
    {
      "cell_type": "markdown",
      "source": [
        "### 1.NLTK"
      ],
      "metadata": {
        "id": "ySFU6gXXc2R1"
      }
    },
    {
      "cell_type": "code",
      "source": [
        "import nltk\n",
        "from nltk.corpus import wordnet\n",
        "\n",
        "nltk.download('wordnet')\n",
        "\n",
        "def semantics_analysis(word):\n",
        "    synsets = wordnet.synsets(word)\n",
        "    meanings = [syn.definition() for syn in synsets]\n",
        "    return meanings\n",
        "\n",
        "word = \"Apple\"\n",
        "semantics_result = semantics_analysis(word)\n",
        "print(\"Semantic Meaning of Word:\", word)\n",
        "print(\"--------------------------------\")\n",
        "for i in semantics_result:\n",
        "  print(\"Semantics Analysis:\", i)"
      ],
      "metadata": {
        "colab": {
          "base_uri": "https://localhost:8080/"
        },
        "id": "P2nXkm_SZE8V",
        "outputId": "2e283a32-9639-4148-c53f-b1f35d692899"
      },
      "execution_count": 25,
      "outputs": [
        {
          "output_type": "stream",
          "name": "stdout",
          "text": [
            "Semantic Meaning of Word: Apple\n",
            "--------------------------------\n",
            "Semantics Analysis: fruit with red or yellow or green skin and sweet to tart crisp whitish flesh\n",
            "Semantics Analysis: native Eurasian tree widely cultivated in many varieties for its firm rounded edible fruits\n"
          ]
        },
        {
          "output_type": "stream",
          "name": "stderr",
          "text": [
            "[nltk_data] Downloading package wordnet to /root/nltk_data...\n",
            "[nltk_data]   Package wordnet is already up-to-date!\n"
          ]
        }
      ]
    },
    {
      "cell_type": "markdown",
      "source": [
        "### 2.Spacy"
      ],
      "metadata": {
        "id": "lOjRY1mpdGnA"
      }
    },
    {
      "cell_type": "code",
      "source": [
        "import spacy\n",
        "from nltk.corpus import wordnet\n",
        "\n",
        "# Download WordNet data\n",
        "import nltk\n",
        "nltk.download('wordnet')\n",
        "\n",
        "def semantics_analysis_spacy_wordnet(word):\n",
        "    nlp = spacy.load(\"en_core_web_sm\")\n",
        "    token = nlp(word)\n",
        "\n",
        "    # Retrieve WordNet synsets\n",
        "    synsets = wordnet.synsets(word)\n",
        "\n",
        "    # Extract definitions from WordNet synsets\n",
        "    definitions = [syn.definition() for syn in synsets]\n",
        "\n",
        "    return definitions\n",
        "\n",
        "word = \"Apple\"\n",
        "semantics_result_spacy_wordnet = semantics_analysis_spacy_wordnet(word)\n",
        "# semantics_result = semantics_analysis(word)\n",
        "print(\"Semantic Meaning of Word:\", word)\n",
        "print(\"--------------------------------\")\n",
        "for i in semantics_result:\n",
        "  print(\"Semantics Analysis:\", i)"
      ],
      "metadata": {
        "colab": {
          "base_uri": "https://localhost:8080/"
        },
        "id": "Le3pFynHc3id",
        "outputId": "21c02026-029c-48b7-d3d8-24329346fa35"
      },
      "execution_count": 43,
      "outputs": [
        {
          "output_type": "stream",
          "name": "stderr",
          "text": [
            "[nltk_data] Downloading package wordnet to /root/nltk_data...\n",
            "[nltk_data]   Package wordnet is already up-to-date!\n"
          ]
        },
        {
          "output_type": "stream",
          "name": "stdout",
          "text": [
            "Semantic Meaning of Word: Apple\n",
            "--------------------------------\n",
            "Semantics Analysis: fruit with red or yellow or green skin and sweet to tart crisp whitish flesh\n",
            "Semantics Analysis: native Eurasian tree widely cultivated in many varieties for its firm rounded edible fruits\n"
          ]
        }
      ]
    },
    {
      "cell_type": "markdown",
      "source": [
        "### 4. Pragmatics: Context is King\n",
        "\n",
        "![](https://miro.medium.com/v2/resize:fit:653/1*X6iv-oqOs-G2je-LQxzprA.png)\n",
        "- Finally, pragmatics considers the context in which language is used. It helps us understand the speaker's intentions, the unspoken rules of communication, and how the environment affects meaning.\n",
        "- For example, sarcasm or humor often requires pragmatic understanding to interpret correctly. Analyzing pragmatics allows NLP systems to handle ambiguity, understand non-literal language, and adapt their responses based on context."
      ],
      "metadata": {
        "id": "jroitLS-kQvU"
      }
    },
    {
      "cell_type": "code",
      "source": [
        "import nltk\n",
        "from nltk.tokenize import word_tokenize\n",
        "\n",
        "nltk.download('punkt')\n",
        "\n",
        "def pragmatics_analysis_nltk(context):\n",
        "    words = word_tokenize(context)\n",
        "\n",
        "    if \"urgent\" in words:\n",
        "        return \"This needs immediate attention.\"\n",
        "    else:\n",
        "        return \"Please review at your earliest convenience.\"\n",
        "\n",
        "context = \"The document requires your attention; it's urgent.\"\n",
        "pragmatics_result_nltk = pragmatics_analysis_nltk(context)\n",
        "print(\"Pragmatics Analysis with NLTK:\", pragmatics_result_nltk)"
      ],
      "metadata": {
        "colab": {
          "base_uri": "https://localhost:8080/"
        },
        "id": "765nuRqheWaz",
        "outputId": "24131159-d40d-4fec-d1a4-7268d58d0594"
      },
      "execution_count": 46,
      "outputs": [
        {
          "output_type": "stream",
          "name": "stdout",
          "text": [
            "Pragmatics Analysis with NLTK: This needs immediate attention.\n"
          ]
        },
        {
          "output_type": "stream",
          "name": "stderr",
          "text": [
            "[nltk_data] Downloading package punkt to /root/nltk_data...\n",
            "[nltk_data]   Package punkt is already up-to-date!\n"
          ]
        }
      ]
    },
    {
      "cell_type": "code",
      "source": [
        "def pragmatics_analysis_spacy(context):\n",
        "    if \"urgent\" in context:\n",
        "        return \"This needs immediate attention.\"\n",
        "    else:\n",
        "        return \"Please review at your earliest convenience.\"\n",
        "\n",
        "context = \"The document requires your attention; it's urgent.\"\n",
        "pragmatics_result_spacy = pragmatics_analysis_spacy(context)\n",
        "print(\"Pragmatics Analysis with spaCy:\", pragmatics_result_spacy)"
      ],
      "metadata": {
        "colab": {
          "base_uri": "https://localhost:8080/"
        },
        "id": "aRufBnvQkzPh",
        "outputId": "e6e7d786-e571-4da7-c1f6-87e60462b0eb"
      },
      "execution_count": 45,
      "outputs": [
        {
          "output_type": "stream",
          "name": "stdout",
          "text": [
            "Pragmatics Analysis with spaCy: This needs immediate attention.\n"
          ]
        }
      ]
    },
    {
      "cell_type": "markdown",
      "source": [
        "More Learning References and Excersize: https://towardsai.net/p/nlp/natural-language-processing-nlp-with-python-tutorial-for-beginners-1f54e610a1a0"
      ],
      "metadata": {
        "id": "mKVoJkr4l9gK"
      }
    }
  ]
}