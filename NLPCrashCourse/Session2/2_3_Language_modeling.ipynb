{
  "nbformat": 4,
  "nbformat_minor": 0,
  "metadata": {
    "colab": {
      "provenance": [],
      "gpuType": "T4"
    },
    "kernelspec": {
      "name": "python3",
      "display_name": "Python 3"
    },
    "language_info": {
      "name": "python"
    },
    "accelerator": "GPU"
  },
  "cells": [
    {
      "cell_type": "markdown",
      "source": [
        "Imagine language as a flowing river of words. Language models try to predict what word comes next, based on the words they've already seen. It's like completing a friend's sentence before they finish it!"
      ],
      "metadata": {
        "id": "bn4kdHmgxNUA"
      }
    },
    {
      "cell_type": "markdown",
      "source": [
        "### **1.N-Gram**\n",
        "\n",
        "N-grams are like detectives in the land of language, constantly observing and analyzing word patterns to predict what comes next. They break down text into sequences of n words, studying how these sequences follow each other to make educated guesses about future words. Understanding them is crucial for anyone wanting to delve into language modeling, so let's dive deeper!\n",
        "\n",
        "![](https://www.kdnuggets.com/wp-content/uploads/agarwal_ngram_language_modeling_natural_language_processing_2.png)\n",
        "\n",
        "The Basics:\n",
        "\n",
        "- **N**: This stands for the number of words in the sequence. So, a bigram (n=2) focuses on pairs of words like \"the house,\" while a trigram (n=3) analyzes sequences like \"I love to read.\"\n",
        "- **Frequency**: N-gram models count how often these sequences appear in a given text corpus. Imagine them tallying occurrences of word pairs and triplets like a meticulous accountant.\n",
        "- **Prediction**: Based on these counts, n-grams predict the most likely word to follow a specific sequence. If they see \"I love,\" their prediction might be \"pizza\" based on previous observations of this trigram appearing frequently.\n",
        "\n",
        "![](https://miro.medium.com/v2/resize:fit:1400/1*Pad3hzFEHZMVKCcL1EemVw.png)\n",
        "\n",
        "#### Strengths:\n",
        "\n",
        "- **Simple and efficient**: N-grams are easy to calculate and require minimal computational resources, making them a good starting point for language modeling.\n",
        "- **Effective for short-range predictions**: When dealing with smaller chunks of text, like phrases or sentence beginnings, n-grams can be quite accurate in predicting the next word.\n",
        "- **Useful for tasks like speech recognition and text correction**: Their focus on word patterns helps identify common sequences for specific tasks.\n",
        "\n",
        "#### Limitations:\n",
        "\n",
        "- **Ignores long-range dependencies**: N-grams only consider the immediate past, leading to struggles with complex sentences where meaning depends on distant words.\n",
        "- **Limited context**: They don't capture the broader context of a sentence, leading to potentially nonsensical predictions in certain situations.\n",
        "- **Data-dependent**: Their accuracy heavily relies on the quality and size of the text corpus they were trained on.\n",
        "\n",
        "#### Examples:\n",
        "\n",
        "- **Bigram**: Let's analyze the sentence \"The quick brown fox jumps over the lazy dog.\" \"The quick\" is a bigram, and the model, based on its training data, might predict \"brown\" as the next word.\n",
        "- **Trigram**: If we consider \"jumps over the,\" a trigram, the model could predict \"lazy\" as the next word with higher confidence than just based on the \"over the\" bigram.\n",
        "\n",
        "\n"
      ],
      "metadata": {
        "id": "tc4MsftuyNAF"
      }
    },
    {
      "cell_type": "code",
      "execution_count": 5,
      "metadata": {
        "id": "9N4pBdQiaNYD",
        "colab": {
          "base_uri": "https://localhost:8080/"
        },
        "outputId": "f47df6fe-fa21-412b-b63b-3130dab10380"
      },
      "outputs": [
        {
          "output_type": "stream",
          "name": "stdout",
          "text": [
            "N-grams: [('Language', 'modeling'), ('modeling', 'with'), ('with', 'N-grams'), ('N-grams', 'is'), ('is', 'a'), ('a', 'simple'), ('simple', 'yet'), ('yet', 'effective'), ('effective', 'approach.')]\n",
            "Predicted Next Word: N-grams\n"
          ]
        }
      ],
      "source": [
        "from nltk import ngrams\n",
        "from collections import Counter\n",
        "import random\n",
        "\n",
        "# Sample text\n",
        "text = \"Language modeling with N-grams is a simple yet effective approach.\"\n",
        "\n",
        "# Step 1: Tokenize the text into words\n",
        "words = text.split()\n",
        "\n",
        "# Step 2: Generate N-grams\n",
        "n = 2  # Choose the size of N-grams\n",
        "ngrams_list = list(ngrams(words, n))\n",
        "\n",
        "# Step 3: Count the occurrences of N-grams\n",
        "ngrams_counts = Counter(ngrams_list)\n",
        "\n",
        "# Step 4: Predict the next word based on the last N-1 words\n",
        "input_ngram = random.choice(ngrams_list)\n",
        "predicted_next_word = max(ngrams_counts, key=lambda x: (x[:-1] == input_ngram[-(n-1):], ngrams_counts[x]))\n",
        "\n",
        "# Display the results\n",
        "print(\"N-grams:\", ngrams_list)\n",
        "print(\"Predicted Next Word:\", predicted_next_word[-1])"
      ]
    },
    {
      "cell_type": "code",
      "source": [
        "import spacy\n",
        "import plotly.express as px\n",
        "from plotly.subplots import make_subplots  # Add this import\n",
        "import plotly.graph_objects as go\n",
        "from nltk import ngrams\n",
        "from collections import Counter\n",
        "import random\n",
        "\n",
        "# Sample text\n",
        "text = \"Language modeling with N-grams is a simple yet effective approach.\"\n",
        "\n",
        "# Tokenize the text into words using spaCy\n",
        "nlp = spacy.load(\"en_core_web_sm\")\n",
        "doc = nlp(text)\n",
        "words = [token.text for token in doc]\n",
        "\n",
        "# Choose the sizes of N-grams\n",
        "n_values = [2, 3, 4]\n",
        "\n",
        "# Create subplots with random colors for each N-gram size\n",
        "fig = make_subplots(rows=len(n_values), cols=1, subplot_titles=[f\"N-grams (n={n})\" for n in n_values])\n",
        "\n",
        "for i, n in enumerate(n_values, start=1):\n",
        "    # Generate N-grams\n",
        "    ngrams_list = list(ngrams(words, n))\n",
        "\n",
        "    # Count the occurrences of N-grams\n",
        "    ngrams_counts = Counter(ngrams_list)\n",
        "\n",
        "    # Total number of N-grams\n",
        "    total_ngrams = sum(ngrams_counts.values())\n",
        "\n",
        "    # Separate the data for plotting\n",
        "    labels, counts = zip(*ngrams_counts.items())\n",
        "\n",
        "    # Convert labels and counts to lists\n",
        "    labels = list(map(str, labels))\n",
        "\n",
        "    # Calculate probabilities\n",
        "    probabilities = [count / total_ngrams for count in counts]\n",
        "\n",
        "    # Shuffle colors for randomness\n",
        "    colors = [f'rgb({random.randint(0, 255)}, {random.randint(0, 255)}, {random.randint(0, 255)})' for _ in range(len(labels))]\n",
        "\n",
        "    # Create a bar plot for each N-gram size\n",
        "    fig.add_trace(go.Bar(x=labels, y=counts, marker_color=colors,\n",
        "                         text=probabilities),\n",
        "                  row=i, col=1)\n",
        "\n",
        "    # Rotate x-axis labels for better visibility\n",
        "    fig.update_xaxes(tickangle=45, row=i, col=1)\n",
        "\n",
        "# Update layout\n",
        "fig.update_layout(height=800, showlegend=False, title_text=\"Occurrences and Probability of N-grams\")\n",
        "\n",
        "# Show the interactive plot\n",
        "fig.show()"
      ],
      "metadata": {
        "colab": {
          "base_uri": "https://localhost:8080/",
          "height": 817
        },
        "id": "py9KBn3X0Dc1",
        "outputId": "beb43d79-78c5-429b-d703-8199bddc1e23"
      },
      "execution_count": 4,
      "outputs": [
        {
          "output_type": "display_data",
          "data": {
            "text/html": [
              "<html>\n",
              "<head><meta charset=\"utf-8\" /></head>\n",
              "<body>\n",
              "    <div>            <script src=\"https://cdnjs.cloudflare.com/ajax/libs/mathjax/2.7.5/MathJax.js?config=TeX-AMS-MML_SVG\"></script><script type=\"text/javascript\">if (window.MathJax && window.MathJax.Hub && window.MathJax.Hub.Config) {window.MathJax.Hub.Config({SVG: {font: \"STIX-Web\"}});}</script>                <script type=\"text/javascript\">window.PlotlyConfig = {MathJaxConfig: 'local'};</script>\n",
              "        <script charset=\"utf-8\" src=\"https://cdn.plot.ly/plotly-2.24.1.min.js\"></script>                <div id=\"85fee2af-a8a1-444d-807b-4e58deb93b2c\" class=\"plotly-graph-div\" style=\"height:800px; width:100%;\"></div>            <script type=\"text/javascript\">                                    window.PLOTLYENV=window.PLOTLYENV || {};                                    if (document.getElementById(\"85fee2af-a8a1-444d-807b-4e58deb93b2c\")) {                    Plotly.newPlot(                        \"85fee2af-a8a1-444d-807b-4e58deb93b2c\",                        [{\"marker\":{\"color\":[\"rgb(79, 75, 207)\",\"rgb(168, 123, 198)\",\"rgb(81, 19, 70)\",\"rgb(20, 129, 206)\",\"rgb(56, 91, 12)\",\"rgb(189, 131, 24)\",\"rgb(162, 194, 139)\",\"rgb(54, 15, 40)\",\"rgb(254, 179, 95)\",\"rgb(200, 24, 63)\",\"rgb(56, 110, 97)\",\"rgb(151, 248, 245)\"]},\"text\":[\"0.08333333333333333\",\"0.08333333333333333\",\"0.08333333333333333\",\"0.08333333333333333\",\"0.08333333333333333\",\"0.08333333333333333\",\"0.08333333333333333\",\"0.08333333333333333\",\"0.08333333333333333\",\"0.08333333333333333\",\"0.08333333333333333\",\"0.08333333333333333\"],\"x\":[\"('Language', 'modeling')\",\"('modeling', 'with')\",\"('with', 'N')\",\"('N', '-')\",\"('-', 'grams')\",\"('grams', 'is')\",\"('is', 'a')\",\"('a', 'simple')\",\"('simple', 'yet')\",\"('yet', 'effective')\",\"('effective', 'approach')\",\"('approach', '.')\"],\"y\":[1,1,1,1,1,1,1,1,1,1,1,1],\"type\":\"bar\",\"xaxis\":\"x\",\"yaxis\":\"y\"},{\"marker\":{\"color\":[\"rgb(89, 7, 191)\",\"rgb(109, 28, 43)\",\"rgb(173, 178, 72)\",\"rgb(71, 137, 124)\",\"rgb(4, 219, 18)\",\"rgb(210, 154, 74)\",\"rgb(86, 62, 90)\",\"rgb(104, 239, 30)\",\"rgb(47, 226, 70)\",\"rgb(126, 246, 166)\",\"rgb(144, 18, 233)\"]},\"text\":[\"0.09090909090909091\",\"0.09090909090909091\",\"0.09090909090909091\",\"0.09090909090909091\",\"0.09090909090909091\",\"0.09090909090909091\",\"0.09090909090909091\",\"0.09090909090909091\",\"0.09090909090909091\",\"0.09090909090909091\",\"0.09090909090909091\"],\"x\":[\"('Language', 'modeling', 'with')\",\"('modeling', 'with', 'N')\",\"('with', 'N', '-')\",\"('N', '-', 'grams')\",\"('-', 'grams', 'is')\",\"('grams', 'is', 'a')\",\"('is', 'a', 'simple')\",\"('a', 'simple', 'yet')\",\"('simple', 'yet', 'effective')\",\"('yet', 'effective', 'approach')\",\"('effective', 'approach', '.')\"],\"y\":[1,1,1,1,1,1,1,1,1,1,1],\"type\":\"bar\",\"xaxis\":\"x2\",\"yaxis\":\"y2\"},{\"marker\":{\"color\":[\"rgb(252, 215, 10)\",\"rgb(11, 33, 208)\",\"rgb(248, 15, 220)\",\"rgb(139, 189, 175)\",\"rgb(77, 181, 118)\",\"rgb(220, 12, 199)\",\"rgb(171, 105, 65)\",\"rgb(83, 194, 249)\",\"rgb(192, 195, 59)\",\"rgb(80, 158, 83)\"]},\"text\":[\"0.1\",\"0.1\",\"0.1\",\"0.1\",\"0.1\",\"0.1\",\"0.1\",\"0.1\",\"0.1\",\"0.1\"],\"x\":[\"('Language', 'modeling', 'with', 'N')\",\"('modeling', 'with', 'N', '-')\",\"('with', 'N', '-', 'grams')\",\"('N', '-', 'grams', 'is')\",\"('-', 'grams', 'is', 'a')\",\"('grams', 'is', 'a', 'simple')\",\"('is', 'a', 'simple', 'yet')\",\"('a', 'simple', 'yet', 'effective')\",\"('simple', 'yet', 'effective', 'approach')\",\"('yet', 'effective', 'approach', '.')\"],\"y\":[1,1,1,1,1,1,1,1,1,1],\"type\":\"bar\",\"xaxis\":\"x3\",\"yaxis\":\"y3\"}],                        {\"template\":{\"data\":{\"histogram2dcontour\":[{\"type\":\"histogram2dcontour\",\"colorbar\":{\"outlinewidth\":0,\"ticks\":\"\"},\"colorscale\":[[0.0,\"#0d0887\"],[0.1111111111111111,\"#46039f\"],[0.2222222222222222,\"#7201a8\"],[0.3333333333333333,\"#9c179e\"],[0.4444444444444444,\"#bd3786\"],[0.5555555555555556,\"#d8576b\"],[0.6666666666666666,\"#ed7953\"],[0.7777777777777778,\"#fb9f3a\"],[0.8888888888888888,\"#fdca26\"],[1.0,\"#f0f921\"]]}],\"choropleth\":[{\"type\":\"choropleth\",\"colorbar\":{\"outlinewidth\":0,\"ticks\":\"\"}}],\"histogram2d\":[{\"type\":\"histogram2d\",\"colorbar\":{\"outlinewidth\":0,\"ticks\":\"\"},\"colorscale\":[[0.0,\"#0d0887\"],[0.1111111111111111,\"#46039f\"],[0.2222222222222222,\"#7201a8\"],[0.3333333333333333,\"#9c179e\"],[0.4444444444444444,\"#bd3786\"],[0.5555555555555556,\"#d8576b\"],[0.6666666666666666,\"#ed7953\"],[0.7777777777777778,\"#fb9f3a\"],[0.8888888888888888,\"#fdca26\"],[1.0,\"#f0f921\"]]}],\"heatmap\":[{\"type\":\"heatmap\",\"colorbar\":{\"outlinewidth\":0,\"ticks\":\"\"},\"colorscale\":[[0.0,\"#0d0887\"],[0.1111111111111111,\"#46039f\"],[0.2222222222222222,\"#7201a8\"],[0.3333333333333333,\"#9c179e\"],[0.4444444444444444,\"#bd3786\"],[0.5555555555555556,\"#d8576b\"],[0.6666666666666666,\"#ed7953\"],[0.7777777777777778,\"#fb9f3a\"],[0.8888888888888888,\"#fdca26\"],[1.0,\"#f0f921\"]]}],\"heatmapgl\":[{\"type\":\"heatmapgl\",\"colorbar\":{\"outlinewidth\":0,\"ticks\":\"\"},\"colorscale\":[[0.0,\"#0d0887\"],[0.1111111111111111,\"#46039f\"],[0.2222222222222222,\"#7201a8\"],[0.3333333333333333,\"#9c179e\"],[0.4444444444444444,\"#bd3786\"],[0.5555555555555556,\"#d8576b\"],[0.6666666666666666,\"#ed7953\"],[0.7777777777777778,\"#fb9f3a\"],[0.8888888888888888,\"#fdca26\"],[1.0,\"#f0f921\"]]}],\"contourcarpet\":[{\"type\":\"contourcarpet\",\"colorbar\":{\"outlinewidth\":0,\"ticks\":\"\"}}],\"contour\":[{\"type\":\"contour\",\"colorbar\":{\"outlinewidth\":0,\"ticks\":\"\"},\"colorscale\":[[0.0,\"#0d0887\"],[0.1111111111111111,\"#46039f\"],[0.2222222222222222,\"#7201a8\"],[0.3333333333333333,\"#9c179e\"],[0.4444444444444444,\"#bd3786\"],[0.5555555555555556,\"#d8576b\"],[0.6666666666666666,\"#ed7953\"],[0.7777777777777778,\"#fb9f3a\"],[0.8888888888888888,\"#fdca26\"],[1.0,\"#f0f921\"]]}],\"surface\":[{\"type\":\"surface\",\"colorbar\":{\"outlinewidth\":0,\"ticks\":\"\"},\"colorscale\":[[0.0,\"#0d0887\"],[0.1111111111111111,\"#46039f\"],[0.2222222222222222,\"#7201a8\"],[0.3333333333333333,\"#9c179e\"],[0.4444444444444444,\"#bd3786\"],[0.5555555555555556,\"#d8576b\"],[0.6666666666666666,\"#ed7953\"],[0.7777777777777778,\"#fb9f3a\"],[0.8888888888888888,\"#fdca26\"],[1.0,\"#f0f921\"]]}],\"mesh3d\":[{\"type\":\"mesh3d\",\"colorbar\":{\"outlinewidth\":0,\"ticks\":\"\"}}],\"scatter\":[{\"fillpattern\":{\"fillmode\":\"overlay\",\"size\":10,\"solidity\":0.2},\"type\":\"scatter\"}],\"parcoords\":[{\"type\":\"parcoords\",\"line\":{\"colorbar\":{\"outlinewidth\":0,\"ticks\":\"\"}}}],\"scatterpolargl\":[{\"type\":\"scatterpolargl\",\"marker\":{\"colorbar\":{\"outlinewidth\":0,\"ticks\":\"\"}}}],\"bar\":[{\"error_x\":{\"color\":\"#2a3f5f\"},\"error_y\":{\"color\":\"#2a3f5f\"},\"marker\":{\"line\":{\"color\":\"#E5ECF6\",\"width\":0.5},\"pattern\":{\"fillmode\":\"overlay\",\"size\":10,\"solidity\":0.2}},\"type\":\"bar\"}],\"scattergeo\":[{\"type\":\"scattergeo\",\"marker\":{\"colorbar\":{\"outlinewidth\":0,\"ticks\":\"\"}}}],\"scatterpolar\":[{\"type\":\"scatterpolar\",\"marker\":{\"colorbar\":{\"outlinewidth\":0,\"ticks\":\"\"}}}],\"histogram\":[{\"marker\":{\"pattern\":{\"fillmode\":\"overlay\",\"size\":10,\"solidity\":0.2}},\"type\":\"histogram\"}],\"scattergl\":[{\"type\":\"scattergl\",\"marker\":{\"colorbar\":{\"outlinewidth\":0,\"ticks\":\"\"}}}],\"scatter3d\":[{\"type\":\"scatter3d\",\"line\":{\"colorbar\":{\"outlinewidth\":0,\"ticks\":\"\"}},\"marker\":{\"colorbar\":{\"outlinewidth\":0,\"ticks\":\"\"}}}],\"scattermapbox\":[{\"type\":\"scattermapbox\",\"marker\":{\"colorbar\":{\"outlinewidth\":0,\"ticks\":\"\"}}}],\"scatterternary\":[{\"type\":\"scatterternary\",\"marker\":{\"colorbar\":{\"outlinewidth\":0,\"ticks\":\"\"}}}],\"scattercarpet\":[{\"type\":\"scattercarpet\",\"marker\":{\"colorbar\":{\"outlinewidth\":0,\"ticks\":\"\"}}}],\"carpet\":[{\"aaxis\":{\"endlinecolor\":\"#2a3f5f\",\"gridcolor\":\"white\",\"linecolor\":\"white\",\"minorgridcolor\":\"white\",\"startlinecolor\":\"#2a3f5f\"},\"baxis\":{\"endlinecolor\":\"#2a3f5f\",\"gridcolor\":\"white\",\"linecolor\":\"white\",\"minorgridcolor\":\"white\",\"startlinecolor\":\"#2a3f5f\"},\"type\":\"carpet\"}],\"table\":[{\"cells\":{\"fill\":{\"color\":\"#EBF0F8\"},\"line\":{\"color\":\"white\"}},\"header\":{\"fill\":{\"color\":\"#C8D4E3\"},\"line\":{\"color\":\"white\"}},\"type\":\"table\"}],\"barpolar\":[{\"marker\":{\"line\":{\"color\":\"#E5ECF6\",\"width\":0.5},\"pattern\":{\"fillmode\":\"overlay\",\"size\":10,\"solidity\":0.2}},\"type\":\"barpolar\"}],\"pie\":[{\"automargin\":true,\"type\":\"pie\"}]},\"layout\":{\"autotypenumbers\":\"strict\",\"colorway\":[\"#636efa\",\"#EF553B\",\"#00cc96\",\"#ab63fa\",\"#FFA15A\",\"#19d3f3\",\"#FF6692\",\"#B6E880\",\"#FF97FF\",\"#FECB52\"],\"font\":{\"color\":\"#2a3f5f\"},\"hovermode\":\"closest\",\"hoverlabel\":{\"align\":\"left\"},\"paper_bgcolor\":\"white\",\"plot_bgcolor\":\"#E5ECF6\",\"polar\":{\"bgcolor\":\"#E5ECF6\",\"angularaxis\":{\"gridcolor\":\"white\",\"linecolor\":\"white\",\"ticks\":\"\"},\"radialaxis\":{\"gridcolor\":\"white\",\"linecolor\":\"white\",\"ticks\":\"\"}},\"ternary\":{\"bgcolor\":\"#E5ECF6\",\"aaxis\":{\"gridcolor\":\"white\",\"linecolor\":\"white\",\"ticks\":\"\"},\"baxis\":{\"gridcolor\":\"white\",\"linecolor\":\"white\",\"ticks\":\"\"},\"caxis\":{\"gridcolor\":\"white\",\"linecolor\":\"white\",\"ticks\":\"\"}},\"coloraxis\":{\"colorbar\":{\"outlinewidth\":0,\"ticks\":\"\"}},\"colorscale\":{\"sequential\":[[0.0,\"#0d0887\"],[0.1111111111111111,\"#46039f\"],[0.2222222222222222,\"#7201a8\"],[0.3333333333333333,\"#9c179e\"],[0.4444444444444444,\"#bd3786\"],[0.5555555555555556,\"#d8576b\"],[0.6666666666666666,\"#ed7953\"],[0.7777777777777778,\"#fb9f3a\"],[0.8888888888888888,\"#fdca26\"],[1.0,\"#f0f921\"]],\"sequentialminus\":[[0.0,\"#0d0887\"],[0.1111111111111111,\"#46039f\"],[0.2222222222222222,\"#7201a8\"],[0.3333333333333333,\"#9c179e\"],[0.4444444444444444,\"#bd3786\"],[0.5555555555555556,\"#d8576b\"],[0.6666666666666666,\"#ed7953\"],[0.7777777777777778,\"#fb9f3a\"],[0.8888888888888888,\"#fdca26\"],[1.0,\"#f0f921\"]],\"diverging\":[[0,\"#8e0152\"],[0.1,\"#c51b7d\"],[0.2,\"#de77ae\"],[0.3,\"#f1b6da\"],[0.4,\"#fde0ef\"],[0.5,\"#f7f7f7\"],[0.6,\"#e6f5d0\"],[0.7,\"#b8e186\"],[0.8,\"#7fbc41\"],[0.9,\"#4d9221\"],[1,\"#276419\"]]},\"xaxis\":{\"gridcolor\":\"white\",\"linecolor\":\"white\",\"ticks\":\"\",\"title\":{\"standoff\":15},\"zerolinecolor\":\"white\",\"automargin\":true,\"zerolinewidth\":2},\"yaxis\":{\"gridcolor\":\"white\",\"linecolor\":\"white\",\"ticks\":\"\",\"title\":{\"standoff\":15},\"zerolinecolor\":\"white\",\"automargin\":true,\"zerolinewidth\":2},\"scene\":{\"xaxis\":{\"backgroundcolor\":\"#E5ECF6\",\"gridcolor\":\"white\",\"linecolor\":\"white\",\"showbackground\":true,\"ticks\":\"\",\"zerolinecolor\":\"white\",\"gridwidth\":2},\"yaxis\":{\"backgroundcolor\":\"#E5ECF6\",\"gridcolor\":\"white\",\"linecolor\":\"white\",\"showbackground\":true,\"ticks\":\"\",\"zerolinecolor\":\"white\",\"gridwidth\":2},\"zaxis\":{\"backgroundcolor\":\"#E5ECF6\",\"gridcolor\":\"white\",\"linecolor\":\"white\",\"showbackground\":true,\"ticks\":\"\",\"zerolinecolor\":\"white\",\"gridwidth\":2}},\"shapedefaults\":{\"line\":{\"color\":\"#2a3f5f\"}},\"annotationdefaults\":{\"arrowcolor\":\"#2a3f5f\",\"arrowhead\":0,\"arrowwidth\":1},\"geo\":{\"bgcolor\":\"white\",\"landcolor\":\"#E5ECF6\",\"subunitcolor\":\"white\",\"showland\":true,\"showlakes\":true,\"lakecolor\":\"white\"},\"title\":{\"x\":0.05},\"mapbox\":{\"style\":\"light\"}}},\"xaxis\":{\"anchor\":\"y\",\"domain\":[0.0,1.0],\"tickangle\":45},\"yaxis\":{\"anchor\":\"x\",\"domain\":[0.7777777777777778,1.0]},\"xaxis2\":{\"anchor\":\"y2\",\"domain\":[0.0,1.0],\"tickangle\":45},\"yaxis2\":{\"anchor\":\"x2\",\"domain\":[0.3888888888888889,0.6111111111111112]},\"xaxis3\":{\"anchor\":\"y3\",\"domain\":[0.0,1.0],\"tickangle\":45},\"yaxis3\":{\"anchor\":\"x3\",\"domain\":[0.0,0.22222222222222224]},\"annotations\":[{\"font\":{\"size\":16},\"showarrow\":false,\"text\":\"N-grams (n=2)\",\"x\":0.5,\"xanchor\":\"center\",\"xref\":\"paper\",\"y\":1.0,\"yanchor\":\"bottom\",\"yref\":\"paper\"},{\"font\":{\"size\":16},\"showarrow\":false,\"text\":\"N-grams (n=3)\",\"x\":0.5,\"xanchor\":\"center\",\"xref\":\"paper\",\"y\":0.6111111111111112,\"yanchor\":\"bottom\",\"yref\":\"paper\"},{\"font\":{\"size\":16},\"showarrow\":false,\"text\":\"N-grams (n=4)\",\"x\":0.5,\"xanchor\":\"center\",\"xref\":\"paper\",\"y\":0.22222222222222224,\"yanchor\":\"bottom\",\"yref\":\"paper\"}],\"title\":{\"text\":\"Occurrences and Probability of N-grams\"},\"height\":800,\"showlegend\":false},                        {\"responsive\": true}                    ).then(function(){\n",
              "                            \n",
              "var gd = document.getElementById('85fee2af-a8a1-444d-807b-4e58deb93b2c');\n",
              "var x = new MutationObserver(function (mutations, observer) {{\n",
              "        var display = window.getComputedStyle(gd).display;\n",
              "        if (!display || display === 'none') {{\n",
              "            console.log([gd, 'removed!']);\n",
              "            Plotly.purge(gd);\n",
              "            observer.disconnect();\n",
              "        }}\n",
              "}});\n",
              "\n",
              "// Listen for the removal of the full notebook cells\n",
              "var notebookContainer = gd.closest('#notebook-container');\n",
              "if (notebookContainer) {{\n",
              "    x.observe(notebookContainer, {childList: true});\n",
              "}}\n",
              "\n",
              "// Listen for the clearing of the current output cell\n",
              "var outputEl = gd.closest('.output');\n",
              "if (outputEl) {{\n",
              "    x.observe(outputEl, {childList: true});\n",
              "}}\n",
              "\n",
              "                        })                };                            </script>        </div>\n",
              "</body>\n",
              "</html>"
            ]
          },
          "metadata": {}
        }
      ]
    }
  ]
}